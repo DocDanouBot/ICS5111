{
  "cells": [
    {
      "cell_type": "code",
      "id": "46ca7fc2",
      "metadata": {
        "colab": {
          "base_uri": "https://localhost:8080/"
        },
        "id": "46ca7fc2",
        "outputId": "80180f1f-5adc-4d49-9e59-13a9dcd5c3dd",
        "ExecuteTime": {
          "end_time": "2024-12-15T18:32:24.136990Z",
          "start_time": "2024-12-15T18:31:57.297753Z"
        }
      },
      "source": [
        "!pip install wbdata transformers faiss-cpu rouge-score"
      ],
      "outputs": [
        {
          "output_type": "stream",
          "name": "stdout",
          "text": [
            "Requirement already satisfied: wbdata in /usr/local/lib/python3.10/dist-packages (1.0.0)\n",
            "Requirement already satisfied: transformers in /usr/local/lib/python3.10/dist-packages (4.47.1)\n",
            "Requirement already satisfied: faiss-cpu in /usr/local/lib/python3.10/dist-packages (1.9.0.post1)\n",
            "Requirement already satisfied: rouge-score in /usr/local/lib/python3.10/dist-packages (0.1.2)\n",
            "Requirement already satisfied: appdirs<2.0,>=1.4 in /usr/local/lib/python3.10/dist-packages (from wbdata) (1.4.4)\n",
            "Requirement already satisfied: backoff<3.0.0,>=2.2.1 in /usr/local/lib/python3.10/dist-packages (from wbdata) (2.2.1)\n",
            "Requirement already satisfied: cachetools<6.0.0,>=5.3.2 in /usr/local/lib/python3.10/dist-packages (from wbdata) (5.5.0)\n",
            "Requirement already satisfied: dateparser<2.0.0,>=1.2.0 in /usr/local/lib/python3.10/dist-packages (from wbdata) (1.2.0)\n",
            "Requirement already satisfied: decorator<6.0.0,>=5.1.1 in /usr/local/lib/python3.10/dist-packages (from wbdata) (5.1.1)\n",
            "Requirement already satisfied: requests<3.0,>=2.0 in /usr/local/lib/python3.10/dist-packages (from wbdata) (2.32.3)\n",
            "Requirement already satisfied: shelved-cache<0.4.0,>=0.3.1 in /usr/local/lib/python3.10/dist-packages (from wbdata) (0.3.1)\n",
            "Requirement already satisfied: tabulate<0.9.0,>=0.8.5 in /usr/local/lib/python3.10/dist-packages (from wbdata) (0.8.10)\n",
            "Requirement already satisfied: filelock in /usr/local/lib/python3.10/dist-packages (from transformers) (3.16.1)\n",
            "Requirement already satisfied: huggingface-hub<1.0,>=0.24.0 in /usr/local/lib/python3.10/dist-packages (from transformers) (0.27.0)\n",
            "Requirement already satisfied: numpy>=1.17 in /usr/local/lib/python3.10/dist-packages (from transformers) (1.26.4)\n",
            "Requirement already satisfied: packaging>=20.0 in /usr/local/lib/python3.10/dist-packages (from transformers) (24.2)\n",
            "Requirement already satisfied: pyyaml>=5.1 in /usr/local/lib/python3.10/dist-packages (from transformers) (6.0.2)\n",
            "Requirement already satisfied: regex!=2019.12.17 in /usr/local/lib/python3.10/dist-packages (from transformers) (2024.11.6)\n",
            "Requirement already satisfied: tokenizers<0.22,>=0.21 in /usr/local/lib/python3.10/dist-packages (from transformers) (0.21.0)\n",
            "Requirement already satisfied: safetensors>=0.4.1 in /usr/local/lib/python3.10/dist-packages (from transformers) (0.4.5)\n",
            "Requirement already satisfied: tqdm>=4.27 in /usr/local/lib/python3.10/dist-packages (from transformers) (4.67.1)\n",
            "Requirement already satisfied: absl-py in /usr/local/lib/python3.10/dist-packages (from rouge-score) (1.4.0)\n",
            "Requirement already satisfied: nltk in /usr/local/lib/python3.10/dist-packages (from rouge-score) (3.9.1)\n",
            "Requirement already satisfied: six>=1.14.0 in /usr/local/lib/python3.10/dist-packages (from rouge-score) (1.17.0)\n",
            "Requirement already satisfied: python-dateutil in /usr/local/lib/python3.10/dist-packages (from dateparser<2.0.0,>=1.2.0->wbdata) (2.8.2)\n",
            "Requirement already satisfied: pytz in /usr/local/lib/python3.10/dist-packages (from dateparser<2.0.0,>=1.2.0->wbdata) (2024.2)\n",
            "Requirement already satisfied: tzlocal in /usr/local/lib/python3.10/dist-packages (from dateparser<2.0.0,>=1.2.0->wbdata) (5.2)\n",
            "Requirement already satisfied: fsspec>=2023.5.0 in /usr/local/lib/python3.10/dist-packages (from huggingface-hub<1.0,>=0.24.0->transformers) (2024.10.0)\n",
            "Requirement already satisfied: typing-extensions>=3.7.4.3 in /usr/local/lib/python3.10/dist-packages (from huggingface-hub<1.0,>=0.24.0->transformers) (4.12.2)\n",
            "Requirement already satisfied: charset-normalizer<4,>=2 in /usr/local/lib/python3.10/dist-packages (from requests<3.0,>=2.0->wbdata) (3.4.0)\n",
            "Requirement already satisfied: idna<4,>=2.5 in /usr/local/lib/python3.10/dist-packages (from requests<3.0,>=2.0->wbdata) (3.10)\n",
            "Requirement already satisfied: urllib3<3,>=1.21.1 in /usr/local/lib/python3.10/dist-packages (from requests<3.0,>=2.0->wbdata) (2.2.3)\n",
            "Requirement already satisfied: certifi>=2017.4.17 in /usr/local/lib/python3.10/dist-packages (from requests<3.0,>=2.0->wbdata) (2024.12.14)\n",
            "Requirement already satisfied: click in /usr/local/lib/python3.10/dist-packages (from nltk->rouge-score) (8.1.7)\n",
            "Requirement already satisfied: joblib in /usr/local/lib/python3.10/dist-packages (from nltk->rouge-score) (1.4.2)\n"
          ]
        }
      ],
      "execution_count": 1
    },
    {
      "cell_type": "code",
      "id": "892d10db",
      "metadata": {
        "id": "892d10db",
        "ExecuteTime": {
          "end_time": "2024-12-15T18:35:23.711495Z",
          "start_time": "2024-12-15T18:35:23.689678Z"
        }
      },
      "source": [
        "import wbdata\n",
        "import kagglehub\n",
        "import os\n",
        "import pandas as pd\n",
        "import matplotlib.pyplot as plt\n",
        "import numpy as np\n",
        "from datetime import datetime\n",
        "from sklearn.feature_extraction.text import TfidfVectorizer\n",
        "from sklearn.metrics.pairwise import cosine_similarity\n",
        "from transformers import pipeline, AutoModelForQuestionAnswering, AutoTokenizer\n",
        "import faiss\n",
        "from rouge_score import rouge_scorer\n"
      ],
      "outputs": [],
      "execution_count": 9
    },
    {
      "cell_type": "code",
      "execution_count": 5,
      "id": "e22588ab",
      "metadata": {
        "colab": {
          "base_uri": "https://localhost:8080/"
        },
        "id": "e22588ab",
        "outputId": "ea39071b-39d9-4fea-dd52-ccace4a3b142"
      },
      "outputs": [
        {
          "output_type": "stream",
          "name": "stdout",
          "text": [
            "Sample World Bank Data:\n",
            "  country  date  GDP Growth  Inflation       Exports       Imports  \\\n",
            "0  Brazil  2012    1.921176   5.403499  2.928084e+11  3.263157e+11   \n",
            "1  Brazil  2011    3.974423   6.636450  3.030166e+11  3.231448e+11   \n",
            "2  Brazil  2010    7.528226   5.038727  2.400031e+11  2.629973e+11   \n",
            "3  Brazil  2009   -0.125812   4.888035  1.808920e+11  1.876139e+11   \n",
            "4  Brazil  2008    5.094195   5.678594  2.295170e+11  2.327318e+11   \n",
            "\n",
            "   Unemployment  \n",
            "0         7.251  \n",
            "1         7.578  \n",
            "2         8.424  \n",
            "3         9.419  \n",
            "4         8.268  \n"
          ]
        }
      ],
      "source": [
        "# Define indicators\n",
        "indicators = {\n",
        "    \"NY.GDP.MKTP.KD.ZG\": \"GDP Growth\",\n",
        "    \"FP.CPI.TOTL.ZG\": \"Inflation\",\n",
        "    \"NE.EXP.GNFS.CD\": \"Exports\",\n",
        "    \"NE.IMP.GNFS.CD\": \"Imports\",\n",
        "    \"SL.UEM.TOTL.ZS\": \"Unemployment\",\n",
        "}\n",
        "\n",
        "# Define countries\n",
        "countries = [\n",
        "    \"USA\", \"GBR\", \"DEU\", \"JPN\",  # Developed Economies\n",
        "    \"CHN\", \"IND\", \"BRA\", \"ZAF\",  # Emerging Markets\n",
        "    \"SGP\", \"MEX\", \"KOR\"           # Trade-Dependent Economies\n",
        "]\n",
        "\n",
        "# Define time range\n",
        "start_date = datetime(2005, 1, 1)\n",
        "end_date = datetime(2012, 12, 31)\n",
        "\n",
        "# Fetch data\n",
        "data = wbdata.get_dataframe(indicators, country=countries, date=(start_date, end_date))\n",
        "\n",
        "# Reset index for easier processing\n",
        "data.reset_index(inplace=True)\n",
        "\n",
        "# Display sample World Bank data\n",
        "print(\"Sample World Bank Data:\")\n",
        "print(data.head())\n"
      ]
    },
    {
      "cell_type": "code",
      "source": [
        "# Load Kaggle Financial Sentiment Analysis Dataset\n",
        "data_path = kagglehub.dataset_download(\"sbhatti/financial-sentiment-analysis\", force_download=True)\n",
        "\n",
        "# Construct the file path directly using 'data.csv'\n",
        "data_file = os.path.join(data_path, \"data.csv\")\n",
        "\n",
        "# Read the CSV\n",
        "df = pd.read_csv(data_file)\n"
      ],
      "metadata": {
        "colab": {
          "base_uri": "https://localhost:8080/"
        },
        "id": "W6s0DHv8qElH",
        "outputId": "4aed47b7-28ec-4112-b9aa-0141bbdbf8c4",
        "ExecuteTime": {
          "end_time": "2024-12-15T18:35:16.068749Z",
          "start_time": "2024-12-15T18:35:15.806030Z"
        }
      },
      "id": "W6s0DHv8qElH",
      "outputs": [
        {
          "output_type": "stream",
          "name": "stdout",
          "text": [
            "Warning: Looks like you're using an outdated `kagglehub` version (installed: 0.3.5), please consider upgrading to the latest version (0.3.6).\n",
            "Downloading from https://www.kaggle.com/api/v1/datasets/download/sbhatti/financial-sentiment-analysis?dataset_version_number=4...\n"
          ]
        },
        {
          "output_type": "stream",
          "name": "stderr",
          "text": [
            "100%|██████████| 276k/276k [00:00<00:00, 30.8MB/s]"
          ]
        },
        {
          "output_type": "stream",
          "name": "stdout",
          "text": [
            "Extracting files...\n"
          ]
        },
        {
          "output_type": "stream",
          "name": "stderr",
          "text": [
            "\n"
          ]
        }
      ],
      "execution_count": 6
    },
    {
      "cell_type": "code",
      "source": [
        "def preprocess_text(text):\n",
        "    return text.lower().strip()\n",
        "\n",
        "df[\"cleaned_text\"] = df[\"Sentence\"].apply(preprocess_text)\n",
        "\n",
        "financial_sentences = df[\"cleaned_text\"].tolist()\n",
        "sentiments = df[\"Sentiment\"].tolist()\n",
        "\n",
        "vectorizer = TfidfVectorizer(stop_words='english', max_features=10000)\n",
        "tfidf_matrix = vectorizer.fit_transform(financial_sentences)\n",
        "\n",
        "def sparse_retrieval(query, top_k=5):\n",
        "    query_tfidf = vectorizer.transform([query])\n",
        "    scores = cosine_similarity(query_tfidf, tfidf_matrix)[0]\n",
        "    top_indices = scores.argsort()[-top_k:][::-1]\n",
        "    return [(financial_sentences[i], sentiments[i], scores[i]) for i in top_indices]\n",
        "\n",
        "\n",
        "queries = [\n",
        "    \"Stock prices increased significantly\",\n",
        "    \"Company reported huge losses\",\n",
        "    \"Economic growth forecast for next quarter\",\n",
        "    \"High unemployment and rising inflation\",\n",
        "    \"Positive outlook for technology sector\"\n",
        "]\n",
        "\n",
        "# Retrieve and Display Results\n",
        "for query in queries:\n",
        "    print(f\"\\n🔍 Query: {query}\")\n",
        "    results = sparse_retrieval(query, top_k=3)\n",
        "    for i, (sentence, sentiment, score) in enumerate(results):\n",
        "        print(f\"{i+1}. [{sentiment}] (Score: {score:.4f}) - {sentence}\")"
      ],
      "metadata": {
        "colab": {
          "base_uri": "https://localhost:8080/"
        },
        "id": "j7TBfKXv8Zsa",
        "outputId": "0a2b23bf-42b6-4130-914f-1e4da18e1bae"
      },
      "id": "j7TBfKXv8Zsa",
      "execution_count": 11,
      "outputs": [
        {
          "output_type": "stream",
          "name": "stdout",
          "text": [
            "\n",
            "🔍 Query: Stock prices increased significantly\n",
            "1. [neutral] (Score: 0.4360) - prices and delivery volumes of broadband products decreased significantly in 2005 .\n",
            "2. [negative] (Score: 0.4360) - prices and delivery volumes of broadband products decreased significantly in 2005 .\n",
            "3. [positive] (Score: 0.3512) - the company expects net sales to significantly increase from 2009 .\n",
            "\n",
            "🔍 Query: Company reported huge losses\n",
            "1. [neutral] (Score: 0.4946) - this would be a huge process .\n",
            "2. [neutral] (Score: 0.3004) - a huge issue for us is the button placement .\n",
            "3. [neutral] (Score: 0.2694) - the huge bridge girders will be delivered to the site from our plant in ylivieska , finland .\n",
            "\n",
            "🔍 Query: Economic growth forecast for next quarter\n",
            "1. [neutral] (Score: 0.4192) - the forecast for 2012 is 3.3 % .\n",
            "2. [positive] (Score: 0.3627) - ruukki forecast a 15-20 % annual sales growth and a positive pretax result for 2010 .\n",
            "3. [positive] (Score: 0.3463) - consumption is forecast to grow by about 2 % .\n",
            "\n",
            "🔍 Query: High unemployment and rising inflation\n",
            "1. [neutral] (Score: 0.3980) - aktia forecasts finland 's inflation at 1.1 % in 2010 .\n",
            "2. [neutral] (Score: 0.3874) - the ecb can mainly target inflation .\n",
            "3. [negative] (Score: 0.1969) - rising costs have forced packaging producer huhtamaki to axe 90 jobs at its hampshire manufacturing plant .\n",
            "\n",
            "🔍 Query: Positive outlook for technology sector\n",
            "1. [positive] (Score: 0.4085) - update: persimmon profit up strongly, outlook positive\n",
            "2. [neutral] (Score: 0.3040) - the company reiterates its outlook for 2009 .\n",
            "3. [negative] (Score: 0.2660) - operating profit for 2009 lower than outlook published earlier .\n"
          ]
        }
      ]
    },
    {
      "cell_type": "code",
      "source": [],
      "metadata": {
        "id": "ouXfFFM-8xyO"
      },
      "id": "ouXfFFM-8xyO",
      "execution_count": null,
      "outputs": []
    }
  ],
  "metadata": {
    "kernelspec": {
      "display_name": "Python 3",
      "language": "python",
      "name": "python3"
    },
    "colab": {
      "provenance": []
    }
  },
  "nbformat": 4,
  "nbformat_minor": 5
}